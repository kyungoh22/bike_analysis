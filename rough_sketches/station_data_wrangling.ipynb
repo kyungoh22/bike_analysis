{
 "cells": [
  {
   "cell_type": "code",
   "execution_count": 1,
   "metadata": {},
   "outputs": [],
   "source": [
    "import matplotlib as mpl\n",
    "import numpy as np\n",
    "import matplotlib.pyplot as plt\n",
    "import seaborn as sns\n",
    "import pandas as pd\n",
    "\n",
    "import requests\n",
    "from pandas.io.json import json_normalize\n",
    "import json\n",
    "import urllib.request\n",
    "\n",
    "from difflib import SequenceMatcher"
   ]
  },
  {
   "cell_type": "code",
   "execution_count": 4,
   "metadata": {},
   "outputs": [],
   "source": [
    "station_loc = pd.read_csv('cleaned_data/station_loc.csv')"
   ]
  },
  {
   "cell_type": "code",
   "execution_count": 5,
   "metadata": {},
   "outputs": [
    {
     "data": {
      "text/html": [
       "<div>\n",
       "<style scoped>\n",
       "    .dataframe tbody tr th:only-of-type {\n",
       "        vertical-align: middle;\n",
       "    }\n",
       "\n",
       "    .dataframe tbody tr th {\n",
       "        vertical-align: top;\n",
       "    }\n",
       "\n",
       "    .dataframe thead th {\n",
       "        text-align: right;\n",
       "    }\n",
       "</style>\n",
       "<table border=\"1\" class=\"dataframe\">\n",
       "  <thead>\n",
       "    <tr style=\"text-align: right;\">\n",
       "      <th></th>\n",
       "      <th>name</th>\n",
       "      <th>lat</th>\n",
       "      <th>lon</th>\n",
       "      <th>region_id</th>\n",
       "      <th>region</th>\n",
       "    </tr>\n",
       "  </thead>\n",
       "  <tbody>\n",
       "    <tr>\n",
       "      <th>0</th>\n",
       "      <td>Eads St &amp; 15th St S</td>\n",
       "      <td>38.858971</td>\n",
       "      <td>-77.053230</td>\n",
       "      <td>41</td>\n",
       "      <td>Arlington, VA</td>\n",
       "    </tr>\n",
       "    <tr>\n",
       "      <th>1</th>\n",
       "      <td>Crystal Dr &amp; 20th St S</td>\n",
       "      <td>38.856425</td>\n",
       "      <td>-77.049232</td>\n",
       "      <td>41</td>\n",
       "      <td>Arlington, VA</td>\n",
       "    </tr>\n",
       "  </tbody>\n",
       "</table>\n",
       "</div>"
      ],
      "text/plain": [
       "                     name        lat        lon  region_id         region\n",
       "0     Eads St & 15th St S  38.858971 -77.053230         41  Arlington, VA\n",
       "1  Crystal Dr & 20th St S  38.856425 -77.049232         41  Arlington, VA"
      ]
     },
     "execution_count": 5,
     "metadata": {},
     "output_type": "execute_result"
    }
   ],
   "source": [
    "station_loc.head(2)"
   ]
  },
  {
   "cell_type": "code",
   "execution_count": 63,
   "metadata": {},
   "outputs": [],
   "source": [
    "df_2011 = pd.read_csv('cleaned_data/df_2011.csv', parse_dates = ['start_date', 'end_date'])\n",
    "df_2012 = pd.read_csv('cleaned_data/df_2012.csv', parse_dates = ['start_date', 'end_date'])\n",
    "df_2013 = pd.read_csv('cleaned_data/df_2013.csv', parse_dates = ['start_date', 'end_date'])\n",
    "df_2014 = pd.read_csv('cleaned_data/df_2014.csv', parse_dates = ['start_date', 'end_date'])\n",
    "df_2015 = pd.read_csv('cleaned_data/df_2015.csv', parse_dates = ['start_date', 'end_date'])\n",
    "df_2016 = pd.read_csv('cleaned_data/df_2016.csv', parse_dates = ['start_date', 'end_date'])\n",
    "df_2017 = pd.read_csv('cleaned_data/df_2017.csv', parse_dates = ['start_date', 'end_date'])"
   ]
  },
  {
   "cell_type": "markdown",
   "metadata": {},
   "source": [
    "<h3> For the years 2012 and 2013, create a separate dataframe with station info </h5>"
   ]
  },
  {
   "cell_type": "code",
   "execution_count": 20,
   "metadata": {},
   "outputs": [],
   "source": [
    "start_stations_2012 = df_2012['start_station'].unique()\n",
    "end_stations_2012 = df_2012['end_station'].unique()\n",
    "\n",
    "start_stations_2013 = df_2013['start_station'].unique()\n",
    "end_stations_2013 = df_2013['end_station'].unique()\n",
    "\n",
    "stations_2012 = np.union1d(start_stations_2012, end_stations_2012)\n",
    "stations_2013 = np.union1d(start_stations_2013, end_stations_2013)"
   ]
  },
  {
   "cell_type": "code",
   "execution_count": 21,
   "metadata": {},
   "outputs": [
    {
     "data": {
      "text/plain": [
       "(191, 305)"
      ]
     },
     "execution_count": 21,
     "metadata": {},
     "output_type": "execute_result"
    }
   ],
   "source": [
    "len(stations_2012), len(stations_2013)"
   ]
  },
  {
   "cell_type": "code",
   "execution_count": 22,
   "metadata": {},
   "outputs": [],
   "source": [
    "stations_2012 = pd.DataFrame(stations_2012).rename(columns = {0: 'station'})\n",
    "stations_2013 = pd.DataFrame(stations_2013).rename(columns = {0: 'station'})"
   ]
  },
  {
   "cell_type": "code",
   "execution_count": 24,
   "metadata": {},
   "outputs": [
    {
     "data": {
      "text/html": [
       "<div>\n",
       "<style scoped>\n",
       "    .dataframe tbody tr th:only-of-type {\n",
       "        vertical-align: middle;\n",
       "    }\n",
       "\n",
       "    .dataframe tbody tr th {\n",
       "        vertical-align: top;\n",
       "    }\n",
       "\n",
       "    .dataframe thead th {\n",
       "        text-align: right;\n",
       "    }\n",
       "</style>\n",
       "<table border=\"1\" class=\"dataframe\">\n",
       "  <thead>\n",
       "    <tr style=\"text-align: right;\">\n",
       "      <th></th>\n",
       "      <th>station</th>\n",
       "    </tr>\n",
       "  </thead>\n",
       "  <tbody>\n",
       "    <tr>\n",
       "      <th>0</th>\n",
       "      <td>10th &amp; E St NW</td>\n",
       "    </tr>\n",
       "    <tr>\n",
       "      <th>1</th>\n",
       "      <td>10th &amp; Florida Ave NW</td>\n",
       "    </tr>\n",
       "    <tr>\n",
       "      <th>2</th>\n",
       "      <td>10th &amp; K St NW</td>\n",
       "    </tr>\n",
       "    <tr>\n",
       "      <th>3</th>\n",
       "      <td>10th &amp; Monroe St NE</td>\n",
       "    </tr>\n",
       "    <tr>\n",
       "      <th>4</th>\n",
       "      <td>10th &amp; U St NW</td>\n",
       "    </tr>\n",
       "  </tbody>\n",
       "</table>\n",
       "</div>"
      ],
      "text/plain": [
       "                 station\n",
       "0         10th & E St NW\n",
       "1  10th & Florida Ave NW\n",
       "2         10th & K St NW\n",
       "3    10th & Monroe St NE\n",
       "4         10th & U St NW"
      ]
     },
     "execution_count": 24,
     "metadata": {},
     "output_type": "execute_result"
    }
   ],
   "source": [
    "stations_2012.head()\n",
    "stations_2013.head()"
   ]
  },
  {
   "cell_type": "code",
   "execution_count": 25,
   "metadata": {},
   "outputs": [],
   "source": [
    "# Add \"region\", \"lat\", and \"lon\" columns to stations_2011 using stations_loc\n",
    "\n",
    "stations_2012['region'] = np.zeros(stations_2012.shape[0])\n",
    "stations_2012['lat'] = np.zeros(stations_2012.shape[0])\n",
    "stations_2012['lon'] = np.zeros(stations_2012.shape[0])\n",
    "\n",
    "for i in stations_2012.index:\n",
    "    for j in station_loc.index:\n",
    "        if stations_2012.loc[i,'station'] == station_loc.loc[j, 'name']:\n",
    "            stations_2012.loc[i, 'lat'] = station_loc.loc[j, 'lat']\n",
    "            stations_2012.loc[i, 'lon'] = station_loc.loc[j, 'lon']\n",
    "            stations_2012.loc[i, 'region'] = station_loc.loc[j, 'region']"
   ]
  },
  {
   "cell_type": "code",
   "execution_count": 46,
   "metadata": {},
   "outputs": [],
   "source": [
    "stations_2013['region'] = np.zeros(stations_2013.shape[0])\n",
    "stations_2013['lat'] = np.zeros(stations_2013.shape[0])\n",
    "stations_2013['lon'] = np.zeros(stations_2013.shape[0])\n",
    "\n",
    "for i in stations_2013.index:\n",
    "    for j in station_loc.index:\n",
    "        if stations_2013.loc[i,'station'] == station_loc.loc[j, 'name']:\n",
    "            stations_2013.loc[i, 'lat'] = station_loc.loc[j, 'lat']\n",
    "            stations_2013.loc[i, 'lon'] = station_loc.loc[j, 'lon']\n",
    "            stations_2013.loc[i, 'region'] = station_loc.loc[j, 'region']"
   ]
  },
  {
   "cell_type": "code",
   "execution_count": 50,
   "metadata": {},
   "outputs": [
    {
     "data": {
      "text/html": [
       "<div>\n",
       "<style scoped>\n",
       "    .dataframe tbody tr th:only-of-type {\n",
       "        vertical-align: middle;\n",
       "    }\n",
       "\n",
       "    .dataframe tbody tr th {\n",
       "        vertical-align: top;\n",
       "    }\n",
       "\n",
       "    .dataframe thead th {\n",
       "        text-align: right;\n",
       "    }\n",
       "</style>\n",
       "<table border=\"1\" class=\"dataframe\">\n",
       "  <thead>\n",
       "    <tr style=\"text-align: right;\">\n",
       "      <th></th>\n",
       "      <th>station</th>\n",
       "      <th>region</th>\n",
       "      <th>lat</th>\n",
       "      <th>lon</th>\n",
       "    </tr>\n",
       "  </thead>\n",
       "  <tbody>\n",
       "    <tr>\n",
       "      <th>0</th>\n",
       "      <td>10th &amp; E St NW</td>\n",
       "      <td>Washington, DC</td>\n",
       "      <td>38.895914</td>\n",
       "      <td>-77.026064</td>\n",
       "    </tr>\n",
       "    <tr>\n",
       "      <th>1</th>\n",
       "      <td>10th &amp; Monroe St NE</td>\n",
       "      <td>Washington, DC</td>\n",
       "      <td>38.932457</td>\n",
       "      <td>-76.993534</td>\n",
       "    </tr>\n",
       "    <tr>\n",
       "      <th>2</th>\n",
       "      <td>10th &amp; U St NW</td>\n",
       "      <td>Washington, DC</td>\n",
       "      <td>38.917200</td>\n",
       "      <td>-77.025900</td>\n",
       "    </tr>\n",
       "    <tr>\n",
       "      <th>3</th>\n",
       "      <td>10th St &amp; Constitution Ave NW</td>\n",
       "      <td>Washington, DC</td>\n",
       "      <td>38.893028</td>\n",
       "      <td>-77.026013</td>\n",
       "    </tr>\n",
       "    <tr>\n",
       "      <th>4</th>\n",
       "      <td>11th &amp; F St NW</td>\n",
       "      <td>Washington, DC</td>\n",
       "      <td>38.897857</td>\n",
       "      <td>-77.026975</td>\n",
       "    </tr>\n",
       "  </tbody>\n",
       "</table>\n",
       "</div>"
      ],
      "text/plain": [
       "                         station          region        lat        lon\n",
       "0                 10th & E St NW  Washington, DC  38.895914 -77.026064\n",
       "1            10th & Monroe St NE  Washington, DC  38.932457 -76.993534\n",
       "2                 10th & U St NW  Washington, DC  38.917200 -77.025900\n",
       "3  10th St & Constitution Ave NW  Washington, DC  38.893028 -77.026013\n",
       "4                 11th & F St NW  Washington, DC  38.897857 -77.026975"
      ]
     },
     "execution_count": 50,
     "metadata": {},
     "output_type": "execute_result"
    }
   ],
   "source": [
    "stations_2012.head()"
   ]
  },
  {
   "cell_type": "code",
   "execution_count": 51,
   "metadata": {},
   "outputs": [
    {
     "data": {
      "text/html": [
       "<div>\n",
       "<style scoped>\n",
       "    .dataframe tbody tr th:only-of-type {\n",
       "        vertical-align: middle;\n",
       "    }\n",
       "\n",
       "    .dataframe tbody tr th {\n",
       "        vertical-align: top;\n",
       "    }\n",
       "\n",
       "    .dataframe thead th {\n",
       "        text-align: right;\n",
       "    }\n",
       "</style>\n",
       "<table border=\"1\" class=\"dataframe\">\n",
       "  <thead>\n",
       "    <tr style=\"text-align: right;\">\n",
       "      <th></th>\n",
       "      <th>station</th>\n",
       "      <th>region</th>\n",
       "      <th>lat</th>\n",
       "      <th>lon</th>\n",
       "    </tr>\n",
       "  </thead>\n",
       "  <tbody>\n",
       "    <tr>\n",
       "      <th>0</th>\n",
       "      <td>10th &amp; E St NW</td>\n",
       "      <td>Washington, DC</td>\n",
       "      <td>38.895914</td>\n",
       "      <td>-77.026064</td>\n",
       "    </tr>\n",
       "    <tr>\n",
       "      <th>1</th>\n",
       "      <td>10th &amp; Florida Ave NW</td>\n",
       "      <td>Washington, DC</td>\n",
       "      <td>38.920387</td>\n",
       "      <td>-77.025672</td>\n",
       "    </tr>\n",
       "    <tr>\n",
       "      <th>2</th>\n",
       "      <td>10th &amp; K St NW</td>\n",
       "      <td>Washington, DC</td>\n",
       "      <td>38.902400</td>\n",
       "      <td>-77.026220</td>\n",
       "    </tr>\n",
       "    <tr>\n",
       "      <th>3</th>\n",
       "      <td>10th &amp; Monroe St NE</td>\n",
       "      <td>Washington, DC</td>\n",
       "      <td>38.932457</td>\n",
       "      <td>-76.993534</td>\n",
       "    </tr>\n",
       "    <tr>\n",
       "      <th>4</th>\n",
       "      <td>10th &amp; U St NW</td>\n",
       "      <td>Washington, DC</td>\n",
       "      <td>38.917200</td>\n",
       "      <td>-77.025900</td>\n",
       "    </tr>\n",
       "  </tbody>\n",
       "</table>\n",
       "</div>"
      ],
      "text/plain": [
       "                 station          region        lat        lon\n",
       "0         10th & E St NW  Washington, DC  38.895914 -77.026064\n",
       "1  10th & Florida Ave NW  Washington, DC  38.920387 -77.025672\n",
       "2         10th & K St NW  Washington, DC  38.902400 -77.026220\n",
       "3    10th & Monroe St NE  Washington, DC  38.932457 -76.993534\n",
       "4         10th & U St NW  Washington, DC  38.917200 -77.025900"
      ]
     },
     "execution_count": 51,
     "metadata": {},
     "output_type": "execute_result"
    }
   ],
   "source": [
    "stations_2013.head()"
   ]
  },
  {
   "cell_type": "code",
   "execution_count": 36,
   "metadata": {},
   "outputs": [],
   "source": [
    "num_missing_2012 = stations_2012[stations_2012['lat']==0].count()\n",
    "num_missing_2013 = stations_2012[stations_2012['lat']==0].count()"
   ]
  },
  {
   "cell_type": "code",
   "execution_count": 38,
   "metadata": {},
   "outputs": [
    {
     "data": {
      "text/plain": [
       "(station    39\n",
       " region     39\n",
       " lat        39\n",
       " lon        39\n",
       " dtype: int64,\n",
       " station    39\n",
       " region     39\n",
       " lat        39\n",
       " lon        39\n",
       " dtype: int64,\n",
       " 191,\n",
       " 305)"
      ]
     },
     "execution_count": 38,
     "metadata": {},
     "output_type": "execute_result"
    }
   ],
   "source": [
    "num_missing_2012, num_missing_2013, len(stations_2012), len(stations_2013)"
   ]
  },
  {
   "cell_type": "code",
   "execution_count": 47,
   "metadata": {},
   "outputs": [],
   "source": [
    "# Create list of missing stations \n",
    "\n",
    "missing_stations_2012 = []\n",
    "for i in stations_2012.index:\n",
    "    if stations_2012.loc[i,'lat'] == 0 or stations_2012.loc[i,'lon'] == 0:\n",
    "        missing_stations_2012.append(stations_2012.loc[i,'station'])\n",
    "\n",
    "missing_stations_2013 = []\n",
    "for i in stations_2013.index:\n",
    "    if stations_2013.loc[i,'lat'] == 0 or stations_2013.loc[i,'lon'] == 0:\n",
    "        missing_stations_2013.append(stations_2013.loc[i,'station'])"
   ]
  },
  {
   "cell_type": "code",
   "execution_count": 41,
   "metadata": {},
   "outputs": [],
   "source": [
    "missing_stations_2011 = ['Crystal City Metro / 18th & Bell St',\n",
    " '21st & M St NW',\n",
    " 'Eastern Market Metro / Pennsylvania Ave & 7th St SE',\n",
    " 'Connecticut Ave & Newark St NW / Cleveland Park',\n",
    " '18th & Eads St.',\n",
    " '19th & L St NW',\n",
    " '23rd & Crystal Dr',\n",
    " 'Aurora Hills Community Ctr/18th & Hayes St',\n",
    " 'S Joyce & Army Navy Dr',\n",
    " 'Georgia Ave and Fairmont St NW',\n",
    " '20th & Crystal Dr',\n",
    " 'S Glebe & Potomac Ave',\n",
    " 'USDA / 12th & Independence Ave SW',\n",
    " '27th & Crystal Dr',\n",
    " 'Pentagon City Metro / 12th & S Hayes St',\n",
    " '12th & Army Navy Dr',\n",
    " '26th & S Clark St',\n",
    " '15th & Crystal Dr',\n",
    " 'Eads & 22nd St S',\n",
    " '1st & N St  SE',\n",
    " 'Lynn & 19th St North',\n",
    " 'N Rhodes & 16th St N',\n",
    " 'Rosslyn Metro / Wilson Blvd & Ft Myer Dr',\n",
    " 'Wilson Blvd & Franklin Rd',\n",
    " '11th & H St NE']"
   ]
  },
  {
   "cell_type": "code",
   "execution_count": 49,
   "metadata": {},
   "outputs": [
    {
     "data": {
      "text/plain": [
       "(25, 25)"
      ]
     },
     "execution_count": 49,
     "metadata": {},
     "output_type": "execute_result"
    }
   ],
   "source": [
    "len (np.intersect1d(missing_stations_2012, missing_stations_2011)), len (np.intersect1d(missing_stations_2013, missing_stations_2011))"
   ]
  },
  {
   "cell_type": "markdown",
   "metadata": {},
   "source": [
    "Nice. 25 of the stations missing from 2012 and 2013 are missing from 2011. <br>\n",
    "But we already caught a lot of the missing stations from 2011."
   ]
  },
  {
   "cell_type": "markdown",
   "metadata": {},
   "source": [
    "<h3> Now, for all years, create a separate dataframe with station info </h3>\n",
    "\n",
    "We will automate the process carried out above"
   ]
  },
  {
   "cell_type": "code",
   "execution_count": 64,
   "metadata": {},
   "outputs": [],
   "source": [
    "dataframes = [df_2012, df_2013, df_2014, df_2015, df_2016, df_2017]\n",
    "\n",
    "\n",
    "# for each year, array with all stations\n",
    "stations = []\n",
    "\n",
    "for df in dataframes:\n",
    "    start = df['start_station'].unique()\n",
    "    end = df['end_station'].unique()\n",
    "    both = np.union1d(start,end)\n",
    "    stations.append(both)"
   ]
  },
  {
   "cell_type": "code",
   "execution_count": 65,
   "metadata": {},
   "outputs": [
    {
     "name": "stdout",
     "output_type": "stream",
     "text": [
      "191\n",
      "305\n",
      "346\n",
      "357\n",
      "435\n",
      "487\n"
     ]
    }
   ],
   "source": [
    "for item in stations:\n",
    "    print (len(item))"
   ]
  },
  {
   "cell_type": "code",
   "execution_count": 68,
   "metadata": {},
   "outputs": [],
   "source": [
    "stations_dataframes = []\n",
    "\n",
    "for item in stations: \n",
    "    stations_dataframes.append(pd.DataFrame(item).rename(columns = {0: 'station'}))"
   ]
  },
  {
   "cell_type": "code",
   "execution_count": 69,
   "metadata": {},
   "outputs": [
    {
     "data": {
      "text/html": [
       "<div>\n",
       "<style scoped>\n",
       "    .dataframe tbody tr th:only-of-type {\n",
       "        vertical-align: middle;\n",
       "    }\n",
       "\n",
       "    .dataframe tbody tr th {\n",
       "        vertical-align: top;\n",
       "    }\n",
       "\n",
       "    .dataframe thead th {\n",
       "        text-align: right;\n",
       "    }\n",
       "</style>\n",
       "<table border=\"1\" class=\"dataframe\">\n",
       "  <thead>\n",
       "    <tr style=\"text-align: right;\">\n",
       "      <th></th>\n",
       "      <th>station</th>\n",
       "    </tr>\n",
       "  </thead>\n",
       "  <tbody>\n",
       "    <tr>\n",
       "      <th>0</th>\n",
       "      <td>10th &amp; E St NW</td>\n",
       "    </tr>\n",
       "    <tr>\n",
       "      <th>1</th>\n",
       "      <td>10th &amp; Monroe St NE</td>\n",
       "    </tr>\n",
       "    <tr>\n",
       "      <th>2</th>\n",
       "      <td>10th &amp; U St NW</td>\n",
       "    </tr>\n",
       "    <tr>\n",
       "      <th>3</th>\n",
       "      <td>10th St &amp; Constitution Ave NW</td>\n",
       "    </tr>\n",
       "    <tr>\n",
       "      <th>4</th>\n",
       "      <td>11th &amp; F St NW</td>\n",
       "    </tr>\n",
       "  </tbody>\n",
       "</table>\n",
       "</div>"
      ],
      "text/plain": [
       "                         station\n",
       "0                 10th & E St NW\n",
       "1            10th & Monroe St NE\n",
       "2                 10th & U St NW\n",
       "3  10th St & Constitution Ave NW\n",
       "4                 11th & F St NW"
      ]
     },
     "execution_count": 69,
     "metadata": {},
     "output_type": "execute_result"
    }
   ],
   "source": [
    "stations_dataframes[0].head()"
   ]
  },
  {
   "cell_type": "code",
   "execution_count": 70,
   "metadata": {},
   "outputs": [],
   "source": [
    "for item in stations_dataframes:\n",
    "    item['region'] = np.zeros(item.shape[0])\n",
    "    item['lat'] = np.zeros(item.shape[0])\n",
    "    item['lon'] = np.zeros(item.shape[0])\n",
    "\n",
    "    for i in item.index:\n",
    "        for j in station_loc.index: \n",
    "            if item.loc[i,'station'] == station_loc.loc[j, 'name']:\n",
    "                item.loc[i, 'lat'] = station_loc.loc[j, 'lat']\n",
    "                item.loc[i, 'lon'] = station_loc.loc[j, 'lon']\n",
    "                item.loc[i, 'region'] = station_loc.loc[j, 'region']\n"
   ]
  },
  {
   "cell_type": "code",
   "execution_count": 71,
   "metadata": {},
   "outputs": [
    {
     "data": {
      "text/plain": [
       "6"
      ]
     },
     "execution_count": 71,
     "metadata": {},
     "output_type": "execute_result"
    }
   ],
   "source": [
    "len(stations_dataframes)"
   ]
  },
  {
   "cell_type": "code",
   "execution_count": 72,
   "metadata": {},
   "outputs": [],
   "source": [
    "stations_2012 = stations_dataframes[0]\n",
    "stations_2013 = stations_dataframes[1]\n",
    "stations_2014 = stations_dataframes[2]\n",
    "stations_2015 = stations_dataframes[3]\n",
    "stations_2016 = stations_dataframes[4]\n",
    "stations_2017 = stations_dataframes[5]"
   ]
  },
  {
   "cell_type": "code",
   "execution_count": 75,
   "metadata": {},
   "outputs": [
    {
     "data": {
      "text/plain": [
       "(191, 305, 346, 357, 435, 487)"
      ]
     },
     "execution_count": 75,
     "metadata": {},
     "output_type": "execute_result"
    }
   ],
   "source": [
    "len(stations_2012), len(stations_2013), len(stations_2014), len(stations_2015), len(stations_2016), len(stations_2017) "
   ]
  },
  {
   "cell_type": "code",
   "execution_count": 82,
   "metadata": {},
   "outputs": [
    {
     "name": "stdout",
     "output_type": "stream",
     "text": [
      "191 39\n",
      "305 65\n",
      "346 82\n",
      "357 84\n",
      "435 97\n",
      "487 103\n"
     ]
    }
   ],
   "source": [
    "# Count total number of stations + number of stations with missing coordinates per year\n",
    "for df in stations_dataframes:\n",
    "    print (len(df), df[df['lat']==0].count()['station'])\n"
   ]
  },
  {
   "cell_type": "code",
   "execution_count": 83,
   "metadata": {},
   "outputs": [],
   "source": [
    "stations_2012.to_csv('cleaned_data/stations_2012.csv', index = False)\n",
    "stations_2013.to_csv('cleaned_data/stations_2013.csv', index = False)\n",
    "stations_2014.to_csv('cleaned_data/stations_2014.csv', index = False)\n",
    "stations_2015.to_csv('cleaned_data/stations_2015.csv', index = False)\n",
    "stations_2016.to_csv('cleaned_data/stations_2016.csv', index = False)\n",
    "stations_2017.to_csv('cleaned_data/stations_2017.csv', index = False)\n"
   ]
  },
  {
   "cell_type": "code",
   "execution_count": null,
   "metadata": {},
   "outputs": [],
   "source": []
  }
 ],
 "metadata": {
  "interpreter": {
   "hash": "40d3a090f54c6569ab1632332b64b2c03c39dcf918b08424e98f38b5ae0af88f"
  },
  "kernelspec": {
   "display_name": "Python 3.9.7 ('base')",
   "language": "python",
   "name": "python3"
  },
  "language_info": {
   "codemirror_mode": {
    "name": "ipython",
    "version": 3
   },
   "file_extension": ".py",
   "mimetype": "text/x-python",
   "name": "python",
   "nbconvert_exporter": "python",
   "pygments_lexer": "ipython3",
   "version": "3.9.7"
  },
  "orig_nbformat": 4
 },
 "nbformat": 4,
 "nbformat_minor": 2
}
