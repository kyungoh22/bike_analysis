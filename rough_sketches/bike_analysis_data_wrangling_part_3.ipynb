{
 "cells": [
  {
   "cell_type": "markdown",
   "metadata": {},
   "source": [
    "This notebook is intended mostly as an exercise. <br>\n",
    "The aim is to find the geocoordinates of places using their address. <br>\n",
    "To this end, I use the geopy library."
   ]
  },
  {
   "cell_type": "markdown",
   "metadata": {},
   "source": [
    "<h3> Outline for Notebook </h3>\n",
    "<li> Part 1: Load JSON file with all station data hosted on the Capital Bike Share website. Note, this data will be incomplete, since it only includes the stations that are currently in use (at the point of the last update). It does not include data for stations that were active in 2011 but have since been retired. </li>\n",
    "<li> Part 2: Use the above data to add the geocoordinates to 2011 dataframe bike station data. </li>\n",
    "<li> Part 3: There will be some rows in the 2011 dataframe with missing coordinates. For these rows, conduct geocode search to fill in coordinates. </li>"
   ]
  },
  {
   "cell_type": "code",
   "execution_count": 5,
   "metadata": {},
   "outputs": [],
   "source": [
    "import numpy as np\n",
    "import pandas as pd\n",
    "import json\n",
    "from difflib import SequenceMatcher"
   ]
  },
  {
   "cell_type": "markdown",
   "metadata": {},
   "source": [
    "<h3> Part 1 </h3>"
   ]
  },
  {
   "cell_type": "markdown",
   "metadata": {},
   "source": [
    "Load json file as pandas dataframe"
   ]
  },
  {
   "cell_type": "code",
   "execution_count": 6,
   "metadata": {},
   "outputs": [],
   "source": [
    "with open('station_information.json', 'r') as json_file:\n",
    "    json_load = json.load(json_file)\n",
    "\n",
    "    station_info = pd.DataFrame(json_load['data']['stations'])"
   ]
  },
  {
   "cell_type": "code",
   "execution_count": 7,
   "metadata": {},
   "outputs": [
    {
     "data": {
      "text/plain": [
       "(680, 16)"
      ]
     },
     "execution_count": 7,
     "metadata": {},
     "output_type": "execute_result"
    }
   ],
   "source": [
    "station_info.shape"
   ]
  },
  {
   "cell_type": "code",
   "execution_count": 8,
   "metadata": {},
   "outputs": [
    {
     "data": {
      "text/html": [
       "<div>\n",
       "<style scoped>\n",
       "    .dataframe tbody tr th:only-of-type {\n",
       "        vertical-align: middle;\n",
       "    }\n",
       "\n",
       "    .dataframe tbody tr th {\n",
       "        vertical-align: top;\n",
       "    }\n",
       "\n",
       "    .dataframe thead th {\n",
       "        text-align: right;\n",
       "    }\n",
       "</style>\n",
       "<table border=\"1\" class=\"dataframe\">\n",
       "  <thead>\n",
       "    <tr style=\"text-align: right;\">\n",
       "      <th></th>\n",
       "      <th>lon</th>\n",
       "      <th>external_id</th>\n",
       "      <th>rental_uris</th>\n",
       "      <th>capacity</th>\n",
       "      <th>station_id</th>\n",
       "      <th>rental_methods</th>\n",
       "      <th>name</th>\n",
       "      <th>eightd_station_services</th>\n",
       "      <th>short_name</th>\n",
       "      <th>eightd_has_key_dispenser</th>\n",
       "      <th>electric_bike_surcharge_waiver</th>\n",
       "      <th>lat</th>\n",
       "      <th>legacy_id</th>\n",
       "      <th>region_id</th>\n",
       "      <th>station_type</th>\n",
       "      <th>has_kiosk</th>\n",
       "    </tr>\n",
       "  </thead>\n",
       "  <tbody>\n",
       "    <tr>\n",
       "      <th>0</th>\n",
       "      <td>-77.053230</td>\n",
       "      <td>082469cc-1f3f-11e7-bf6b-3863bb334450</td>\n",
       "      <td>{'ios': 'https://dc.lft.to/lastmile_qr_scan', ...</td>\n",
       "      <td>15</td>\n",
       "      <td>1</td>\n",
       "      <td>[KEY, CREDITCARD]</td>\n",
       "      <td>Eads St &amp; 15th St S</td>\n",
       "      <td>[]</td>\n",
       "      <td>31000</td>\n",
       "      <td>False</td>\n",
       "      <td>False</td>\n",
       "      <td>38.858971</td>\n",
       "      <td>1</td>\n",
       "      <td>41</td>\n",
       "      <td>classic</td>\n",
       "      <td>True</td>\n",
       "    </tr>\n",
       "    <tr>\n",
       "      <th>1</th>\n",
       "      <td>-77.049232</td>\n",
       "      <td>08246c35-1f3f-11e7-bf6b-3863bb334450</td>\n",
       "      <td>{'ios': 'https://dc.lft.to/lastmile_qr_scan', ...</td>\n",
       "      <td>17</td>\n",
       "      <td>3</td>\n",
       "      <td>[KEY, CREDITCARD]</td>\n",
       "      <td>Crystal Dr &amp; 20th St S</td>\n",
       "      <td>[]</td>\n",
       "      <td>31002</td>\n",
       "      <td>False</td>\n",
       "      <td>False</td>\n",
       "      <td>38.856425</td>\n",
       "      <td>3</td>\n",
       "      <td>41</td>\n",
       "      <td>classic</td>\n",
       "      <td>True</td>\n",
       "    </tr>\n",
       "  </tbody>\n",
       "</table>\n",
       "</div>"
      ],
      "text/plain": [
       "         lon                           external_id  \\\n",
       "0 -77.053230  082469cc-1f3f-11e7-bf6b-3863bb334450   \n",
       "1 -77.049232  08246c35-1f3f-11e7-bf6b-3863bb334450   \n",
       "\n",
       "                                         rental_uris  capacity station_id  \\\n",
       "0  {'ios': 'https://dc.lft.to/lastmile_qr_scan', ...        15          1   \n",
       "1  {'ios': 'https://dc.lft.to/lastmile_qr_scan', ...        17          3   \n",
       "\n",
       "      rental_methods                    name eightd_station_services  \\\n",
       "0  [KEY, CREDITCARD]     Eads St & 15th St S                      []   \n",
       "1  [KEY, CREDITCARD]  Crystal Dr & 20th St S                      []   \n",
       "\n",
       "  short_name  eightd_has_key_dispenser  electric_bike_surcharge_waiver  \\\n",
       "0      31000                     False                           False   \n",
       "1      31002                     False                           False   \n",
       "\n",
       "         lat legacy_id region_id station_type  has_kiosk  \n",
       "0  38.858971         1        41      classic       True  \n",
       "1  38.856425         3        41      classic       True  "
      ]
     },
     "execution_count": 8,
     "metadata": {},
     "output_type": "execute_result"
    }
   ],
   "source": [
    "station_info.head(2)"
   ]
  },
  {
   "cell_type": "markdown",
   "metadata": {},
   "source": [
    "Select just the \"name\", \"lat\", \"lon\", and \"region_id\" columns"
   ]
  },
  {
   "cell_type": "code",
   "execution_count": 9,
   "metadata": {},
   "outputs": [],
   "source": [
    "# Create \"station_loc\" dataframe with just the relevant info\n",
    "station_loc = station_info[['name','lat','lon','region_id']]"
   ]
  },
  {
   "cell_type": "code",
   "execution_count": 10,
   "metadata": {},
   "outputs": [
    {
     "data": {
      "text/html": [
       "<div>\n",
       "<style scoped>\n",
       "    .dataframe tbody tr th:only-of-type {\n",
       "        vertical-align: middle;\n",
       "    }\n",
       "\n",
       "    .dataframe tbody tr th {\n",
       "        vertical-align: top;\n",
       "    }\n",
       "\n",
       "    .dataframe thead th {\n",
       "        text-align: right;\n",
       "    }\n",
       "</style>\n",
       "<table border=\"1\" class=\"dataframe\">\n",
       "  <thead>\n",
       "    <tr style=\"text-align: right;\">\n",
       "      <th></th>\n",
       "      <th>name</th>\n",
       "      <th>lat</th>\n",
       "      <th>lon</th>\n",
       "      <th>region_id</th>\n",
       "    </tr>\n",
       "  </thead>\n",
       "  <tbody>\n",
       "    <tr>\n",
       "      <th>0</th>\n",
       "      <td>Eads St &amp; 15th St S</td>\n",
       "      <td>38.858971</td>\n",
       "      <td>-77.053230</td>\n",
       "      <td>41</td>\n",
       "    </tr>\n",
       "    <tr>\n",
       "      <th>1</th>\n",
       "      <td>Crystal Dr &amp; 20th St S</td>\n",
       "      <td>38.856425</td>\n",
       "      <td>-77.049232</td>\n",
       "      <td>41</td>\n",
       "    </tr>\n",
       "  </tbody>\n",
       "</table>\n",
       "</div>"
      ],
      "text/plain": [
       "                     name        lat        lon region_id\n",
       "0     Eads St & 15th St S  38.858971 -77.053230        41\n",
       "1  Crystal Dr & 20th St S  38.856425 -77.049232        41"
      ]
     },
     "execution_count": 10,
     "metadata": {},
     "output_type": "execute_result"
    }
   ],
   "source": [
    "station_loc.head(2)"
   ]
  },
  {
   "cell_type": "markdown",
   "metadata": {},
   "source": [
    "Capital Bike Share defines its own set of region ids. <br>\n",
    "This info was found here: <br>"
   ]
  },
  {
   "cell_type": "code",
   "execution_count": 11,
   "metadata": {},
   "outputs": [],
   "source": [
    "# Dictionary of region_id and region names\n",
    "# Pulled from the Capital Bikeshare github\n",
    "\n",
    "\n",
    "regions = [\n",
    "{\n",
    "\"name\": \"Alexandria, VA\",\n",
    "\"region_id\": \"40\"\n",
    "},\n",
    "\n",
    "{\n",
    "\"name\": \"Arlington, VA\",\n",
    "\"region_id\": \"41\"\n",
    "},\n",
    "{\n",
    "\"name\": \"Washington, DC\",\n",
    "\"region_id\": \"42\"\n",
    "},\n",
    "{\n",
    "\"name\": \"Montgomery County, MD (North)\",\n",
    "\"region_id\": \"43\"\n",
    "},\n",
    "{\n",
    "\"name\": \"Montgomery County, MD (South)\",\n",
    "\"region_id\": \"44\"\n",
    "},\n",
    "{\n",
    "\"name\": \"Test & Operations\",\n",
    "\"region_id\": \"48\"\n",
    "},\n",
    "{\n",
    "\"name\": \"Fairfax, VA\",\n",
    "\"region_id\": \"104\"\n",
    "},\n",
    "{\n",
    "\"name\": \"8D\",\n",
    "\"region_id\": \"128\"\n",
    "},\n",
    "{\n",
    "\"name\": \"Prince George's County\",\n",
    "\"region_id\": \"133\"\n",
    "},\n",
    "{\n",
    "\"name\": \"Falls Church, VA\",\n",
    "\"region_id\": \"152\"\n",
    "}\n",
    "]\n",
    "\n",
    "\n",
    "# Create dictionary for region_id and region\n",
    "regions_dict = {\n",
    "40: \"Alexandria, VA\",\n",
    "41: \"Arlington, VA\", \n",
    "42: \"Washington, DC\",\n",
    "43: \"Montgomery County, MD (North)\",\n",
    "44: \"Montgomery County, MD (South)\",\n",
    "48: \"Test & Operations\",\n",
    "104: \"Fairfax, VA\",\n",
    "128: \"8D\",\n",
    "133: \"Prince George's County\",\n",
    "152: \"Falls Church, VA\"\n",
    "}"
   ]
  },
  {
   "cell_type": "code",
   "execution_count": 12,
   "metadata": {},
   "outputs": [
    {
     "name": "stderr",
     "output_type": "stream",
     "text": [
      "/var/folders/68/lmdx_4hd4msbstk8y2t5phyh0000gn/T/ipykernel_87105/3419245316.py:2: SettingWithCopyWarning: \n",
      "A value is trying to be set on a copy of a slice from a DataFrame.\n",
      "Try using .loc[row_indexer,col_indexer] = value instead\n",
      "\n",
      "See the caveats in the documentation: https://pandas.pydata.org/pandas-docs/stable/user_guide/indexing.html#returning-a-view-versus-a-copy\n",
      "  station_loc['region_id'] = station_loc['region_id'].fillna(0)\n",
      "/var/folders/68/lmdx_4hd4msbstk8y2t5phyh0000gn/T/ipykernel_87105/3419245316.py:3: SettingWithCopyWarning: \n",
      "A value is trying to be set on a copy of a slice from a DataFrame.\n",
      "Try using .loc[row_indexer,col_indexer] = value instead\n",
      "\n",
      "See the caveats in the documentation: https://pandas.pydata.org/pandas-docs/stable/user_guide/indexing.html#returning-a-view-versus-a-copy\n",
      "  station_loc['region_id'] = station_loc['region_id'].astype('int64')\n",
      "/var/folders/68/lmdx_4hd4msbstk8y2t5phyh0000gn/T/ipykernel_87105/3419245316.py:4: SettingWithCopyWarning: \n",
      "A value is trying to be set on a copy of a slice from a DataFrame.\n",
      "Try using .loc[row_indexer,col_indexer] = value instead\n",
      "\n",
      "See the caveats in the documentation: https://pandas.pydata.org/pandas-docs/stable/user_guide/indexing.html#returning-a-view-versus-a-copy\n",
      "  station_loc['region'] = station_loc['region_id'].map(regions_dict)\n"
     ]
    }
   ],
   "source": [
    "# Add \"region\" column in \"station_loc\".\n",
    "station_loc['region_id'] = station_loc['region_id'].fillna(0)\n",
    "station_loc['region_id'] = station_loc['region_id'].astype('int64')\n",
    "station_loc['region'] = station_loc['region_id'].map(regions_dict)"
   ]
  },
  {
   "cell_type": "code",
   "execution_count": 13,
   "metadata": {},
   "outputs": [
    {
     "data": {
      "text/html": [
       "<div>\n",
       "<style scoped>\n",
       "    .dataframe tbody tr th:only-of-type {\n",
       "        vertical-align: middle;\n",
       "    }\n",
       "\n",
       "    .dataframe tbody tr th {\n",
       "        vertical-align: top;\n",
       "    }\n",
       "\n",
       "    .dataframe thead th {\n",
       "        text-align: right;\n",
       "    }\n",
       "</style>\n",
       "<table border=\"1\" class=\"dataframe\">\n",
       "  <thead>\n",
       "    <tr style=\"text-align: right;\">\n",
       "      <th></th>\n",
       "      <th>name</th>\n",
       "      <th>lat</th>\n",
       "      <th>lon</th>\n",
       "      <th>region_id</th>\n",
       "      <th>region</th>\n",
       "    </tr>\n",
       "  </thead>\n",
       "  <tbody>\n",
       "    <tr>\n",
       "      <th>0</th>\n",
       "      <td>Eads St &amp; 15th St S</td>\n",
       "      <td>38.858971</td>\n",
       "      <td>-77.053230</td>\n",
       "      <td>41</td>\n",
       "      <td>Arlington, VA</td>\n",
       "    </tr>\n",
       "    <tr>\n",
       "      <th>1</th>\n",
       "      <td>Crystal Dr &amp; 20th St S</td>\n",
       "      <td>38.856425</td>\n",
       "      <td>-77.049232</td>\n",
       "      <td>41</td>\n",
       "      <td>Arlington, VA</td>\n",
       "    </tr>\n",
       "  </tbody>\n",
       "</table>\n",
       "</div>"
      ],
      "text/plain": [
       "                     name        lat        lon  region_id         region\n",
       "0     Eads St & 15th St S  38.858971 -77.053230         41  Arlington, VA\n",
       "1  Crystal Dr & 20th St S  38.856425 -77.049232         41  Arlington, VA"
      ]
     },
     "execution_count": 13,
     "metadata": {},
     "output_type": "execute_result"
    }
   ],
   "source": [
    "station_loc.head(2)"
   ]
  },
  {
   "cell_type": "code",
   "execution_count": 15,
   "metadata": {},
   "outputs": [],
   "source": [
    "station_loc.to_csv('cleaned_data/station_loc.csv', index = False)"
   ]
  },
  {
   "cell_type": "markdown",
   "metadata": {},
   "source": [
    "<h3> Part 2 </h3>"
   ]
  },
  {
   "cell_type": "code",
   "execution_count": 16,
   "metadata": {},
   "outputs": [],
   "source": [
    "df_2011 = pd.read_csv('cleaned_data/df_2011.csv', parse_dates = ['start_date', 'end_date'])"
   ]
  },
  {
   "cell_type": "code",
   "execution_count": 17,
   "metadata": {},
   "outputs": [
    {
     "data": {
      "text/html": [
       "<div>\n",
       "<style scoped>\n",
       "    .dataframe tbody tr th:only-of-type {\n",
       "        vertical-align: middle;\n",
       "    }\n",
       "\n",
       "    .dataframe tbody tr th {\n",
       "        vertical-align: top;\n",
       "    }\n",
       "\n",
       "    .dataframe thead th {\n",
       "        text-align: right;\n",
       "    }\n",
       "</style>\n",
       "<table border=\"1\" class=\"dataframe\">\n",
       "  <thead>\n",
       "    <tr style=\"text-align: right;\">\n",
       "      <th></th>\n",
       "      <th>duration</th>\n",
       "      <th>start_date</th>\n",
       "      <th>end_date</th>\n",
       "      <th>start_station_number</th>\n",
       "      <th>start_station</th>\n",
       "      <th>end_station_number</th>\n",
       "      <th>end_station</th>\n",
       "      <th>bike_number</th>\n",
       "      <th>member_type</th>\n",
       "      <th>registered</th>\n",
       "      <th>casual</th>\n",
       "    </tr>\n",
       "  </thead>\n",
       "  <tbody>\n",
       "    <tr>\n",
       "      <th>0</th>\n",
       "      <td>3548</td>\n",
       "      <td>2011-01-01 00:01:29</td>\n",
       "      <td>2011-01-01 01:00:37</td>\n",
       "      <td>31620</td>\n",
       "      <td>5th &amp; F St NW</td>\n",
       "      <td>31620</td>\n",
       "      <td>5th &amp; F St NW</td>\n",
       "      <td>W00247</td>\n",
       "      <td>Member</td>\n",
       "      <td>1</td>\n",
       "      <td>0</td>\n",
       "    </tr>\n",
       "    <tr>\n",
       "      <th>1</th>\n",
       "      <td>346</td>\n",
       "      <td>2011-01-01 00:02:46</td>\n",
       "      <td>2011-01-01 00:08:32</td>\n",
       "      <td>31105</td>\n",
       "      <td>14th &amp; Harvard St NW</td>\n",
       "      <td>31101</td>\n",
       "      <td>14th &amp; V St NW</td>\n",
       "      <td>W00675</td>\n",
       "      <td>Casual</td>\n",
       "      <td>0</td>\n",
       "      <td>1</td>\n",
       "    </tr>\n",
       "  </tbody>\n",
       "</table>\n",
       "</div>"
      ],
      "text/plain": [
       "   duration          start_date            end_date  start_station_number  \\\n",
       "0      3548 2011-01-01 00:01:29 2011-01-01 01:00:37                 31620   \n",
       "1       346 2011-01-01 00:02:46 2011-01-01 00:08:32                 31105   \n",
       "\n",
       "          start_station  end_station_number     end_station bike_number  \\\n",
       "0         5th & F St NW               31620   5th & F St NW      W00247   \n",
       "1  14th & Harvard St NW               31101  14th & V St NW      W00675   \n",
       "\n",
       "  member_type  registered  casual  \n",
       "0      Member           1       0  \n",
       "1      Casual           0       1  "
      ]
     },
     "execution_count": 17,
     "metadata": {},
     "output_type": "execute_result"
    }
   ],
   "source": [
    "df_2011.head(2)"
   ]
  },
  {
   "cell_type": "markdown",
   "metadata": {},
   "source": [
    "Check that the set of all start stations is the same as the set of all end stations"
   ]
  },
  {
   "cell_type": "code",
   "execution_count": 18,
   "metadata": {},
   "outputs": [],
   "source": [
    "start_stations_2011 = df_2011['start_station'].unique()\n",
    "end_stations_2011 = df_2011['end_station'].unique()"
   ]
  },
  {
   "cell_type": "code",
   "execution_count": 19,
   "metadata": {},
   "outputs": [
    {
     "data": {
      "text/plain": [
       "(144, 144, 144)"
      ]
     },
     "execution_count": 19,
     "metadata": {},
     "output_type": "execute_result"
    }
   ],
   "source": [
    "len(start_stations_2011), len (end_stations_2011), len (np.intersect1d(start_stations_2011, end_stations_2011))"
   ]
  },
  {
   "cell_type": "markdown",
   "metadata": {},
   "source": [
    "Ok. Start stations and end stations are the same."
   ]
  },
  {
   "cell_type": "code",
   "execution_count": 20,
   "metadata": {},
   "outputs": [],
   "source": [
    "stations_2011 = pd.DataFrame(start_stations_2011).rename(columns = {0: 'station'})"
   ]
  },
  {
   "cell_type": "code",
   "execution_count": 21,
   "metadata": {},
   "outputs": [
    {
     "data": {
      "text/html": [
       "<div>\n",
       "<style scoped>\n",
       "    .dataframe tbody tr th:only-of-type {\n",
       "        vertical-align: middle;\n",
       "    }\n",
       "\n",
       "    .dataframe tbody tr th {\n",
       "        vertical-align: top;\n",
       "    }\n",
       "\n",
       "    .dataframe thead th {\n",
       "        text-align: right;\n",
       "    }\n",
       "</style>\n",
       "<table border=\"1\" class=\"dataframe\">\n",
       "  <thead>\n",
       "    <tr style=\"text-align: right;\">\n",
       "      <th></th>\n",
       "      <th>station</th>\n",
       "    </tr>\n",
       "  </thead>\n",
       "  <tbody>\n",
       "    <tr>\n",
       "      <th>0</th>\n",
       "      <td>5th &amp; F St NW</td>\n",
       "    </tr>\n",
       "    <tr>\n",
       "      <th>1</th>\n",
       "      <td>14th &amp; Harvard St NW</td>\n",
       "    </tr>\n",
       "    <tr>\n",
       "      <th>2</th>\n",
       "      <td>Georgia &amp; New Hampshire Ave NW</td>\n",
       "    </tr>\n",
       "    <tr>\n",
       "      <th>3</th>\n",
       "      <td>10th &amp; U St NW</td>\n",
       "    </tr>\n",
       "    <tr>\n",
       "      <th>4</th>\n",
       "      <td>Adams Mill &amp; Columbia Rd NW</td>\n",
       "    </tr>\n",
       "    <tr>\n",
       "      <th>...</th>\n",
       "      <td>...</td>\n",
       "    </tr>\n",
       "    <tr>\n",
       "      <th>139</th>\n",
       "      <td>3000 Connecticut Ave NW / National Zoo</td>\n",
       "    </tr>\n",
       "    <tr>\n",
       "      <th>140</th>\n",
       "      <td>Benning Rd &amp; East Capitol St NE / Benning Rd M...</td>\n",
       "    </tr>\n",
       "    <tr>\n",
       "      <th>141</th>\n",
       "      <td>Anacostia Ave &amp; Benning Rd NE / River Terrace</td>\n",
       "    </tr>\n",
       "    <tr>\n",
       "      <th>142</th>\n",
       "      <td>15th St &amp; Massachusetts Ave SE</td>\n",
       "    </tr>\n",
       "    <tr>\n",
       "      <th>143</th>\n",
       "      <td>Congress Heights Metro</td>\n",
       "    </tr>\n",
       "  </tbody>\n",
       "</table>\n",
       "<p>144 rows × 1 columns</p>\n",
       "</div>"
      ],
      "text/plain": [
       "                                               station\n",
       "0                                        5th & F St NW\n",
       "1                                 14th & Harvard St NW\n",
       "2                       Georgia & New Hampshire Ave NW\n",
       "3                                       10th & U St NW\n",
       "4                          Adams Mill & Columbia Rd NW\n",
       "..                                                 ...\n",
       "139             3000 Connecticut Ave NW / National Zoo\n",
       "140  Benning Rd & East Capitol St NE / Benning Rd M...\n",
       "141     Anacostia Ave & Benning Rd NE / River Terrace \n",
       "142                     15th St & Massachusetts Ave SE\n",
       "143                             Congress Heights Metro\n",
       "\n",
       "[144 rows x 1 columns]"
      ]
     },
     "execution_count": 21,
     "metadata": {},
     "output_type": "execute_result"
    }
   ],
   "source": [
    "stations_2011"
   ]
  },
  {
   "cell_type": "code",
   "execution_count": 24,
   "metadata": {},
   "outputs": [],
   "source": [
    "# Add \"region\", \"lat\", and \"lon\" columns to stations_2011 using stations_loc\n",
    "\n",
    "stations_2011['region'] = np.zeros(stations_2011.shape[0])\n",
    "stations_2011['lat'] = np.zeros(stations_2011.shape[0])\n",
    "stations_2011['lon'] = np.zeros(stations_2011.shape[0])"
   ]
  },
  {
   "cell_type": "code",
   "execution_count": 25,
   "metadata": {},
   "outputs": [],
   "source": [
    "# For each station in \"stations_2011\", add the latitude, longitude, and region using \"station_loc\"\n",
    "\n",
    "for i in stations_2011.index:\n",
    "    for j in station_loc.index:\n",
    "        if stations_2011.loc[i,'station'] == station_loc.loc[j, 'name']:\n",
    "            stations_2011.loc[i, 'lat'] = station_loc.loc[j, 'lat']\n",
    "            stations_2011.loc[i, 'lon'] = station_loc.loc[j, 'lon']\n",
    "            stations_2011.loc[i, 'region'] = station_loc.loc[j, 'region']\n",
    "       \n"
   ]
  },
  {
   "cell_type": "code",
   "execution_count": 26,
   "metadata": {},
   "outputs": [
    {
     "data": {
      "text/html": [
       "<div>\n",
       "<style scoped>\n",
       "    .dataframe tbody tr th:only-of-type {\n",
       "        vertical-align: middle;\n",
       "    }\n",
       "\n",
       "    .dataframe tbody tr th {\n",
       "        vertical-align: top;\n",
       "    }\n",
       "\n",
       "    .dataframe thead th {\n",
       "        text-align: right;\n",
       "    }\n",
       "</style>\n",
       "<table border=\"1\" class=\"dataframe\">\n",
       "  <thead>\n",
       "    <tr style=\"text-align: right;\">\n",
       "      <th></th>\n",
       "      <th>station</th>\n",
       "      <th>region</th>\n",
       "      <th>lat</th>\n",
       "      <th>lon</th>\n",
       "    </tr>\n",
       "  </thead>\n",
       "  <tbody>\n",
       "    <tr>\n",
       "      <th>0</th>\n",
       "      <td>5th &amp; F St NW</td>\n",
       "      <td>Washington, DC</td>\n",
       "      <td>38.897222</td>\n",
       "      <td>-77.019347</td>\n",
       "    </tr>\n",
       "    <tr>\n",
       "      <th>1</th>\n",
       "      <td>14th &amp; Harvard St NW</td>\n",
       "      <td>Washington, DC</td>\n",
       "      <td>38.926800</td>\n",
       "      <td>-77.032200</td>\n",
       "    </tr>\n",
       "    <tr>\n",
       "      <th>2</th>\n",
       "      <td>Georgia &amp; New Hampshire Ave NW</td>\n",
       "      <td>Washington, DC</td>\n",
       "      <td>38.936684</td>\n",
       "      <td>-77.024181</td>\n",
       "    </tr>\n",
       "    <tr>\n",
       "      <th>3</th>\n",
       "      <td>10th &amp; U St NW</td>\n",
       "      <td>Washington, DC</td>\n",
       "      <td>38.917200</td>\n",
       "      <td>-77.025900</td>\n",
       "    </tr>\n",
       "    <tr>\n",
       "      <th>4</th>\n",
       "      <td>Adams Mill &amp; Columbia Rd NW</td>\n",
       "      <td>Washington, DC</td>\n",
       "      <td>38.922925</td>\n",
       "      <td>-77.042581</td>\n",
       "    </tr>\n",
       "  </tbody>\n",
       "</table>\n",
       "</div>"
      ],
      "text/plain": [
       "                          station          region        lat        lon\n",
       "0                   5th & F St NW  Washington, DC  38.897222 -77.019347\n",
       "1            14th & Harvard St NW  Washington, DC  38.926800 -77.032200\n",
       "2  Georgia & New Hampshire Ave NW  Washington, DC  38.936684 -77.024181\n",
       "3                  10th & U St NW  Washington, DC  38.917200 -77.025900\n",
       "4     Adams Mill & Columbia Rd NW  Washington, DC  38.922925 -77.042581"
      ]
     },
     "execution_count": 26,
     "metadata": {},
     "output_type": "execute_result"
    }
   ],
   "source": [
    "stations_2011.head(5)"
   ]
  },
  {
   "cell_type": "markdown",
   "metadata": {},
   "source": [
    "Create a list of the missing station names (i.e. stations for which 'lat' and 'lon' are not available)"
   ]
  },
  {
   "cell_type": "code",
   "execution_count": 27,
   "metadata": {},
   "outputs": [],
   "source": [
    "missing_stations = []\n",
    "for i in stations_2011.index:\n",
    "    if stations_2011.loc[i,'lat'] == 0 or stations_2011.loc[i,'lat'] == 0:\n",
    "        missing_stations.append(stations_2011.loc[i,'station'])"
   ]
  },
  {
   "cell_type": "code",
   "execution_count": 28,
   "metadata": {},
   "outputs": [
    {
     "data": {
      "text/plain": [
       "['Crystal City Metro / 18th & Bell St',\n",
       " '21st & M St NW',\n",
       " 'Eastern Market Metro / Pennsylvania Ave & 7th St SE',\n",
       " 'Connecticut Ave & Newark St NW / Cleveland Park',\n",
       " '18th & Eads St.',\n",
       " '19th & L St NW',\n",
       " '23rd & Crystal Dr',\n",
       " 'Aurora Hills Community Ctr/18th & Hayes St',\n",
       " 'S Joyce & Army Navy Dr',\n",
       " 'Georgia Ave and Fairmont St NW',\n",
       " '20th & Crystal Dr',\n",
       " 'S Glebe & Potomac Ave',\n",
       " 'USDA / 12th & Independence Ave SW',\n",
       " '27th & Crystal Dr',\n",
       " 'Pentagon City Metro / 12th & S Hayes St',\n",
       " '12th & Army Navy Dr',\n",
       " '26th & S Clark St',\n",
       " '15th & Crystal Dr',\n",
       " 'Eads & 22nd St S',\n",
       " '1st & N St  SE',\n",
       " 'Lynn & 19th St North',\n",
       " 'N Rhodes & 16th St N',\n",
       " 'Rosslyn Metro / Wilson Blvd & Ft Myer Dr',\n",
       " 'Wilson Blvd & Franklin Rd',\n",
       " '11th & H St NE']"
      ]
     },
     "execution_count": 28,
     "metadata": {},
     "output_type": "execute_result"
    }
   ],
   "source": [
    "missing_stations"
   ]
  },
  {
   "cell_type": "markdown",
   "metadata": {},
   "source": [
    "<h3> Part 3 </h3>"
   ]
  },
  {
   "cell_type": "code",
   "execution_count": 29,
   "metadata": {},
   "outputs": [],
   "source": [
    "import geopandas as gpd\n",
    "import geopandas.tools\n",
    "from geopy.geocoders import Nominatim\n",
    "import geopy\n",
    "from geopandas.tools import geocode\n",
    "from geopy.extra.rate_limiter import RateLimiter\n",
    "from difflib import SequenceMatcher"
   ]
  },
  {
   "cell_type": "code",
   "execution_count": 32,
   "metadata": {},
   "outputs": [],
   "source": [
    "missing = pd.DataFrame(missing_stations)\n",
    "missing = missing.rename(columns = {0: 'station'})"
   ]
  },
  {
   "cell_type": "code",
   "execution_count": 34,
   "metadata": {},
   "outputs": [
    {
     "data": {
      "text/html": [
       "<div>\n",
       "<style scoped>\n",
       "    .dataframe tbody tr th:only-of-type {\n",
       "        vertical-align: middle;\n",
       "    }\n",
       "\n",
       "    .dataframe tbody tr th {\n",
       "        vertical-align: top;\n",
       "    }\n",
       "\n",
       "    .dataframe thead th {\n",
       "        text-align: right;\n",
       "    }\n",
       "</style>\n",
       "<table border=\"1\" class=\"dataframe\">\n",
       "  <thead>\n",
       "    <tr style=\"text-align: right;\">\n",
       "      <th></th>\n",
       "      <th>station</th>\n",
       "    </tr>\n",
       "  </thead>\n",
       "  <tbody>\n",
       "    <tr>\n",
       "      <th>0</th>\n",
       "      <td>Crystal City Metro / 18th &amp; Bell St</td>\n",
       "    </tr>\n",
       "    <tr>\n",
       "      <th>1</th>\n",
       "      <td>21st &amp; M St NW</td>\n",
       "    </tr>\n",
       "  </tbody>\n",
       "</table>\n",
       "</div>"
      ],
      "text/plain": [
       "                               station\n",
       "0  Crystal City Metro / 18th & Bell St\n",
       "1                       21st & M St NW"
      ]
     },
     "execution_count": 34,
     "metadata": {},
     "output_type": "execute_result"
    }
   ],
   "source": [
    "missing.head(2)"
   ]
  },
  {
   "cell_type": "code",
   "execution_count": 35,
   "metadata": {},
   "outputs": [],
   "source": [
    "# If the address in \"missing\" is very close to the address in \"station_loc\", then use the region name from \"station_loc\"\n",
    "\n",
    "for i in range(len(missing)):\n",
    "    for j in range (len(station_loc)):\n",
    "        if (SequenceMatcher(None, missing.loc[i,'station'], station_loc.loc[j, 'name'])).ratio()>= 0.9:\n",
    "            missing.loc[i,'region'] = station_loc.loc[j,'region']\n",
    "\n",
    "missing['region'] = missing['region'].fillna(0)\n",
    "            "
   ]
  },
  {
   "cell_type": "code",
   "execution_count": 36,
   "metadata": {},
   "outputs": [],
   "source": [
    "# Initialise 'lat' and 'lon' columns\n",
    "missing['lat'] = np.zeros((len(missing),1))\n",
    "missing['lon'] = np.zeros((len(missing),1))"
   ]
  },
  {
   "cell_type": "code",
   "execution_count": 37,
   "metadata": {},
   "outputs": [],
   "source": [
    "# Initialise geolocator and geocode\n",
    "\n",
    "geolocator = Nominatim(user_agent=\"bike_search\")\n",
    "geocode = RateLimiter(geolocator.geocode, min_delay_seconds=1)"
   ]
  },
  {
   "cell_type": "code",
   "execution_count": 38,
   "metadata": {},
   "outputs": [],
   "source": [
    "# Add a space at the beginning of the \"region\" entries + make sure format of \"region\" column is \"string\"\n",
    "missing['region'] = \" \" + missing['region'].astype(str)"
   ]
  },
  {
   "cell_type": "code",
   "execution_count": 39,
   "metadata": {},
   "outputs": [],
   "source": [
    "# Now perform geocoding for stations with missing coordinates\n",
    "\n",
    "for i in range(len(missing)):\n",
    "\n",
    "    try:\n",
    "        if missing.loc[i, 'region'] == 0:           # If the \"region\" is missing, then do a bare geocode search\n",
    "            dummy_lat = geocode(missing.loc[i,'station'], timeout = 15).latitude\n",
    "            dummy_lon = geocode(missing.loc[i,'station'], timeout = 15).longitude\n",
    "\n",
    "            if (dummy_lon > -78 and dummy_lon <-76) and (dummy_lat > 38.5 and dummy_lat<39.5):     # Want coordinates to be in or around Washington DC \n",
    "                missing.loc[i, 'lat'] = dummy_lat\n",
    "                missing.loc[i, 'lon'] = dummy_lon\n",
    "\n",
    "        else:                                       # If \"region\" name is available, add it to the geocode search\n",
    "            dummy_lat = geocode(missing.loc[i,'station'] + missing.loc[i, 'region'], timeout = 15).latitude\n",
    "            dummy_lon = geocode(missing.loc[i,'station'] + missing.loc[i, 'region'], timeout = 15).longitude\n",
    "\n",
    "            if (dummy_lon > -79 and dummy_lon <-76) and (dummy_lat > 38 and dummy_lat<40):\n",
    "                missing.loc[i, 'lat'] = dummy_lat\n",
    "                missing.loc[i, 'lon'] = dummy_lon\n",
    "\n",
    "    except AttributeError:\n",
    "        pass\n",
    "\n",
    "\n",
    "\n"
   ]
  },
  {
   "cell_type": "code",
   "execution_count": 42,
   "metadata": {},
   "outputs": [],
   "source": [
    "for i in range(len(missing)):\n",
    "\n",
    "    try:\n",
    "        if missing.loc[i, 'lat'] == 0 and missing.loc[i, 'region'] != 0:\n",
    "            dummy_lat = geocode(missing.loc[i,'station'], timeout = 15).latitude\n",
    "            dummy_lon = geocode(missing.loc[i,'station'], timeout = 15).longitude\n",
    "\n",
    "            if (dummy_lon > -78 and dummy_lon <-76) and (dummy_lat > 38.5 and dummy_lat<39.5):\n",
    "                missing.loc[i, 'lat'] = dummy_lat\n",
    "                missing.loc[i, 'lon'] = dummy_lon\n",
    "            \n",
    "    \n",
    "\n",
    "    except AttributeError:\n",
    "        pass"
   ]
  },
  {
   "cell_type": "code",
   "execution_count": 40,
   "metadata": {},
   "outputs": [],
   "source": [
    "# Even after the geocode search, some station data re missing. \n",
    "# For those, some station names have a \"/\" in them. \n",
    "# Try a geocode search for the part that comes before the \"/\"\n",
    "\n",
    "for i in range(len(missing)):\n",
    "\n",
    "    try:\n",
    "        if \"/\" in missing.loc[i, 'station']:\n",
    "            dummy_string = missing.loc[i, 'station'].split('/')[0]          # Check part that comes before separator '/'\n",
    "            \n",
    "            dummy_lat = geocode(dummy_string, timeout = 15).latitude\n",
    "            dummy_lon = geocode(dummy_string, timeout = 15).longitude\n",
    "\n",
    "            if (dummy_lon > -78 and dummy_lon <-76) and (dummy_lat > 38.5 and dummy_lat<39.5):\n",
    "                missing.loc[i, 'lat'] = dummy_lat\n",
    "                missing.loc[i, 'lon'] = dummy_lon\n",
    "    \n",
    "\n",
    "    except AttributeError:\n",
    "        pass\n",
    "            \n",
    "            \n",
    "            "
   ]
  },
  {
   "cell_type": "code",
   "execution_count": 43,
   "metadata": {},
   "outputs": [
    {
     "data": {
      "text/html": [
       "<div>\n",
       "<style scoped>\n",
       "    .dataframe tbody tr th:only-of-type {\n",
       "        vertical-align: middle;\n",
       "    }\n",
       "\n",
       "    .dataframe tbody tr th {\n",
       "        vertical-align: top;\n",
       "    }\n",
       "\n",
       "    .dataframe thead th {\n",
       "        text-align: right;\n",
       "    }\n",
       "</style>\n",
       "<table border=\"1\" class=\"dataframe\">\n",
       "  <thead>\n",
       "    <tr style=\"text-align: right;\">\n",
       "      <th></th>\n",
       "      <th>station</th>\n",
       "      <th>region</th>\n",
       "      <th>lat</th>\n",
       "      <th>lon</th>\n",
       "    </tr>\n",
       "  </thead>\n",
       "  <tbody>\n",
       "    <tr>\n",
       "      <th>0</th>\n",
       "      <td>Crystal City Metro / 18th &amp; Bell St</td>\n",
       "      <td>Arlington, VA</td>\n",
       "      <td>38.857756</td>\n",
       "      <td>-77.051196</td>\n",
       "    </tr>\n",
       "    <tr>\n",
       "      <th>1</th>\n",
       "      <td>21st &amp; M St NW</td>\n",
       "      <td>Washington, DC</td>\n",
       "      <td>38.905107</td>\n",
       "      <td>-77.057402</td>\n",
       "    </tr>\n",
       "    <tr>\n",
       "      <th>2</th>\n",
       "      <td>Eastern Market Metro / Pennsylvania Ave &amp; 7th ...</td>\n",
       "      <td>Washington, DC</td>\n",
       "      <td>38.884056</td>\n",
       "      <td>-76.995262</td>\n",
       "    </tr>\n",
       "    <tr>\n",
       "      <th>3</th>\n",
       "      <td>Connecticut Ave &amp; Newark St NW / Cleveland Park</td>\n",
       "      <td>0</td>\n",
       "      <td>38.934267</td>\n",
       "      <td>-77.057979</td>\n",
       "    </tr>\n",
       "    <tr>\n",
       "      <th>4</th>\n",
       "      <td>18th &amp; Eads St.</td>\n",
       "      <td>0</td>\n",
       "      <td>0.000000</td>\n",
       "      <td>0.000000</td>\n",
       "    </tr>\n",
       "    <tr>\n",
       "      <th>5</th>\n",
       "      <td>19th &amp; L St NW</td>\n",
       "      <td>Washington, DC</td>\n",
       "      <td>38.903799</td>\n",
       "      <td>-77.053958</td>\n",
       "    </tr>\n",
       "    <tr>\n",
       "      <th>6</th>\n",
       "      <td>23rd &amp; Crystal Dr</td>\n",
       "      <td>0</td>\n",
       "      <td>38.853166</td>\n",
       "      <td>-77.050493</td>\n",
       "    </tr>\n",
       "    <tr>\n",
       "      <th>7</th>\n",
       "      <td>Aurora Hills Community Ctr/18th &amp; Hayes St</td>\n",
       "      <td>0</td>\n",
       "      <td>38.857792</td>\n",
       "      <td>-77.059103</td>\n",
       "    </tr>\n",
       "    <tr>\n",
       "      <th>8</th>\n",
       "      <td>S Joyce &amp; Army Navy Dr</td>\n",
       "      <td>0</td>\n",
       "      <td>38.865710</td>\n",
       "      <td>-77.061773</td>\n",
       "    </tr>\n",
       "    <tr>\n",
       "      <th>9</th>\n",
       "      <td>Georgia Ave and Fairmont St NW</td>\n",
       "      <td>Washington, DC</td>\n",
       "      <td>38.924900</td>\n",
       "      <td>-77.022200</td>\n",
       "    </tr>\n",
       "    <tr>\n",
       "      <th>10</th>\n",
       "      <td>20th &amp; Crystal Dr</td>\n",
       "      <td>0</td>\n",
       "      <td>38.856400</td>\n",
       "      <td>-77.049200</td>\n",
       "    </tr>\n",
       "    <tr>\n",
       "      <th>11</th>\n",
       "      <td>S Glebe &amp; Potomac Ave</td>\n",
       "      <td>Arlington, VA</td>\n",
       "      <td>38.832561</td>\n",
       "      <td>-77.048147</td>\n",
       "    </tr>\n",
       "    <tr>\n",
       "      <th>12</th>\n",
       "      <td>USDA / 12th &amp; Independence Ave SW</td>\n",
       "      <td>0</td>\n",
       "      <td>38.887841</td>\n",
       "      <td>-77.029994</td>\n",
       "    </tr>\n",
       "    <tr>\n",
       "      <th>13</th>\n",
       "      <td>27th &amp; Crystal Dr</td>\n",
       "      <td>0</td>\n",
       "      <td>38.848466</td>\n",
       "      <td>-77.051514</td>\n",
       "    </tr>\n",
       "    <tr>\n",
       "      <th>14</th>\n",
       "      <td>Pentagon City Metro / 12th &amp; S Hayes St</td>\n",
       "      <td>Arlington, VA</td>\n",
       "      <td>38.862660</td>\n",
       "      <td>-77.059205</td>\n",
       "    </tr>\n",
       "    <tr>\n",
       "      <th>15</th>\n",
       "      <td>12th &amp; Army Navy Dr</td>\n",
       "      <td>0</td>\n",
       "      <td>38.852345</td>\n",
       "      <td>-77.074322</td>\n",
       "    </tr>\n",
       "    <tr>\n",
       "      <th>16</th>\n",
       "      <td>26th &amp; S Clark St</td>\n",
       "      <td>0</td>\n",
       "      <td>38.851434</td>\n",
       "      <td>-77.051714</td>\n",
       "    </tr>\n",
       "    <tr>\n",
       "      <th>17</th>\n",
       "      <td>15th &amp; Crystal Dr</td>\n",
       "      <td>0</td>\n",
       "      <td>0.000000</td>\n",
       "      <td>0.000000</td>\n",
       "    </tr>\n",
       "    <tr>\n",
       "      <th>18</th>\n",
       "      <td>Eads &amp; 22nd St S</td>\n",
       "      <td>Arlington, VA</td>\n",
       "      <td>38.854389</td>\n",
       "      <td>-77.053414</td>\n",
       "    </tr>\n",
       "    <tr>\n",
       "      <th>19</th>\n",
       "      <td>1st &amp; N St  SE</td>\n",
       "      <td>Washington, DC</td>\n",
       "      <td>38.875114</td>\n",
       "      <td>-76.968739</td>\n",
       "    </tr>\n",
       "    <tr>\n",
       "      <th>20</th>\n",
       "      <td>Lynn &amp; 19th St North</td>\n",
       "      <td>Arlington, VA</td>\n",
       "      <td>38.897315</td>\n",
       "      <td>-77.070993</td>\n",
       "    </tr>\n",
       "    <tr>\n",
       "      <th>21</th>\n",
       "      <td>N Rhodes &amp; 16th St N</td>\n",
       "      <td>0</td>\n",
       "      <td>38.892164</td>\n",
       "      <td>-77.079375</td>\n",
       "    </tr>\n",
       "    <tr>\n",
       "      <th>22</th>\n",
       "      <td>Rosslyn Metro / Wilson Blvd &amp; Ft Myer Dr</td>\n",
       "      <td>0</td>\n",
       "      <td>38.891328</td>\n",
       "      <td>-77.085031</td>\n",
       "    </tr>\n",
       "    <tr>\n",
       "      <th>23</th>\n",
       "      <td>Wilson Blvd &amp; Franklin Rd</td>\n",
       "      <td>Arlington, VA</td>\n",
       "      <td>38.890400</td>\n",
       "      <td>-77.088900</td>\n",
       "    </tr>\n",
       "    <tr>\n",
       "      <th>24</th>\n",
       "      <td>11th &amp; H St NE</td>\n",
       "      <td>Washington, DC</td>\n",
       "      <td>38.900164</td>\n",
       "      <td>-77.005441</td>\n",
       "    </tr>\n",
       "  </tbody>\n",
       "</table>\n",
       "</div>"
      ],
      "text/plain": [
       "                                              station           region  \\\n",
       "0                 Crystal City Metro / 18th & Bell St    Arlington, VA   \n",
       "1                                      21st & M St NW   Washington, DC   \n",
       "2   Eastern Market Metro / Pennsylvania Ave & 7th ...   Washington, DC   \n",
       "3     Connecticut Ave & Newark St NW / Cleveland Park                0   \n",
       "4                                     18th & Eads St.                0   \n",
       "5                                      19th & L St NW   Washington, DC   \n",
       "6                                   23rd & Crystal Dr                0   \n",
       "7          Aurora Hills Community Ctr/18th & Hayes St                0   \n",
       "8                              S Joyce & Army Navy Dr                0   \n",
       "9                      Georgia Ave and Fairmont St NW   Washington, DC   \n",
       "10                                  20th & Crystal Dr                0   \n",
       "11                              S Glebe & Potomac Ave    Arlington, VA   \n",
       "12                  USDA / 12th & Independence Ave SW                0   \n",
       "13                                  27th & Crystal Dr                0   \n",
       "14            Pentagon City Metro / 12th & S Hayes St    Arlington, VA   \n",
       "15                                12th & Army Navy Dr                0   \n",
       "16                                  26th & S Clark St                0   \n",
       "17                                  15th & Crystal Dr                0   \n",
       "18                                   Eads & 22nd St S    Arlington, VA   \n",
       "19                                     1st & N St  SE   Washington, DC   \n",
       "20                               Lynn & 19th St North    Arlington, VA   \n",
       "21                               N Rhodes & 16th St N                0   \n",
       "22           Rosslyn Metro / Wilson Blvd & Ft Myer Dr                0   \n",
       "23                          Wilson Blvd & Franklin Rd    Arlington, VA   \n",
       "24                                     11th & H St NE   Washington, DC   \n",
       "\n",
       "          lat        lon  \n",
       "0   38.857756 -77.051196  \n",
       "1   38.905107 -77.057402  \n",
       "2   38.884056 -76.995262  \n",
       "3   38.934267 -77.057979  \n",
       "4    0.000000   0.000000  \n",
       "5   38.903799 -77.053958  \n",
       "6   38.853166 -77.050493  \n",
       "7   38.857792 -77.059103  \n",
       "8   38.865710 -77.061773  \n",
       "9   38.924900 -77.022200  \n",
       "10  38.856400 -77.049200  \n",
       "11  38.832561 -77.048147  \n",
       "12  38.887841 -77.029994  \n",
       "13  38.848466 -77.051514  \n",
       "14  38.862660 -77.059205  \n",
       "15  38.852345 -77.074322  \n",
       "16  38.851434 -77.051714  \n",
       "17   0.000000   0.000000  \n",
       "18  38.854389 -77.053414  \n",
       "19  38.875114 -76.968739  \n",
       "20  38.897315 -77.070993  \n",
       "21  38.892164 -77.079375  \n",
       "22  38.891328 -77.085031  \n",
       "23  38.890400 -77.088900  \n",
       "24  38.900164 -77.005441  "
      ]
     },
     "execution_count": 43,
     "metadata": {},
     "output_type": "execute_result"
    }
   ],
   "source": [
    "missing"
   ]
  },
  {
   "cell_type": "markdown",
   "metadata": {},
   "source": [
    "Nice. After doing the geocode search, we were able to find the coordinates for 23 of the 25 missing stations."
   ]
  }
 ],
 "metadata": {
  "interpreter": {
   "hash": "e2f24232c727810c0d77793c1d360300ff8bb736c1114500783dde71867e0c6c"
  },
  "kernelspec": {
   "display_name": "Python 3.8.13 ('geo_pandas_new')",
   "language": "python",
   "name": "python3"
  },
  "language_info": {
   "codemirror_mode": {
    "name": "ipython",
    "version": 3
   },
   "file_extension": ".py",
   "mimetype": "text/x-python",
   "name": "python",
   "nbconvert_exporter": "python",
   "pygments_lexer": "ipython3",
   "version": "3.8.13"
  },
  "orig_nbformat": 4
 },
 "nbformat": 4,
 "nbformat_minor": 2
}
