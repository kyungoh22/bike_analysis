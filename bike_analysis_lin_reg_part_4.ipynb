{
 "cells": [
  {
   "cell_type": "markdown",
   "metadata": {},
   "source": [
    "- In part 3, we selected the features – first by using VIF and p-values, and second by using domain knowledge\n",
    "- Now we want to use these features to build a regression model while also including regularisation hyper parameter"
   ]
  },
  {
   "cell_type": "code",
   "execution_count": 114,
   "metadata": {},
   "outputs": [],
   "source": [
    "import numpy as np\n",
    "import pandas as pd\n",
    "import matplotlib.pyplot as plt\n",
    "import seaborn as sns\n",
    "\n",
    "from sklearn.model_selection import train_test_split\n",
    "from sklearn.preprocessing import StandardScaler\n",
    "from sklearn.preprocessing import OneHotEncoder\n",
    "from sklearn.linear_model import Ridge\n",
    "from sklearn.metrics import mean_squared_error\n",
    "\n",
    "import statsmodels.api as sm\n",
    "import statsmodels.formula.api as smf\n",
    "from sklearn.metrics import r2_score\n",
    "\n",
    "# load statmodels functions\n",
    "from statsmodels.stats.outliers_influence import variance_inflation_factor\n",
    "from statsmodels.tools.tools import add_constant\n",
    "\n",
    "import warnings \n",
    "warnings.filterwarnings('ignore')"
   ]
  },
  {
   "cell_type": "markdown",
   "metadata": {},
   "source": [
    "<h5> Import data </h5>"
   ]
  },
  {
   "cell_type": "code",
   "execution_count": 115,
   "metadata": {},
   "outputs": [],
   "source": [
    "df_daily = pd.read_csv('cleaned_data/df_daily.csv')"
   ]
  },
  {
   "cell_type": "markdown",
   "metadata": {},
   "source": [
    "<h5> Drop irrelevant features </h5>"
   ]
  },
  {
   "cell_type": "code",
   "execution_count": 116,
   "metadata": {},
   "outputs": [],
   "source": [
    "X = df_daily.drop('Unnamed: 0', axis = 1)\n",
    "X = X.drop(['casual', 'registered', 'total', 'dew_point', 'year_month','app_temp_cat', 'date', 'calendar_week'], axis = 1)\n",
    "y = df_daily['total']\n",
    "\n",
    "# change datatype for \"month\" to string (in order to one-hot encode)\n",
    "X['month'] = X['month'].apply(str)\n",
    "X['year'] = X['year'].apply(str)\n",
    "\n",
    "# one-hot encode the categorical variables\n",
    "X_enc = pd.get_dummies(X, drop_first = True)"
   ]
  },
  {
   "cell_type": "markdown",
   "metadata": {},
   "source": [
    "<h5> Select features </h5>"
   ]
  },
  {
   "cell_type": "markdown",
   "metadata": {},
   "source": [
    "- In previous notebook, we settled on the following selection of features:\n",
    "- 'year_2012', 'wind_speed', 'temp', 'humidity', 'season_spring', 'season_summer', 'season_winter', 'work_day_yes', 'weather_sit_clear', 'weather_sit_misty'"
   ]
  },
  {
   "cell_type": "code",
   "execution_count": 117,
   "metadata": {},
   "outputs": [],
   "source": [
    "X_selection = X_enc[['year_2012', 'wind_speed','temp', 'humidity', 'season_spring', 'season_summer', 'season_winter', 'work_day_yes', 'weather_sit_clear', 'weather_sit_misty']]"
   ]
  },
  {
   "cell_type": "markdown",
   "metadata": {},
   "source": [
    "<h5> Build ridge model with a range of regularisation parameters </h5>"
   ]
  },
  {
   "cell_type": "code",
   "execution_count": 132,
   "metadata": {},
   "outputs": [],
   "source": [
    "# Split data\n",
    "\n",
    "X_train, X_test, y_train, y_test = train_test_split(X_selection, y, test_size=0.3, random_state=45)\n",
    "\n",
    "# Scale data\n",
    "\n",
    "scaler = StandardScaler()\n",
    "scaler.fit(X_train[['wind_speed', 'temp', 'humidity']])\n",
    "\n",
    "X_train_scaled = X_train.copy(deep = True)\n",
    "X_test_scaled = X_test.copy(deep = True)\n",
    "\n",
    "# Scale continuous/numerical features\n",
    "X_train_scaled [['wind_speed', 'temp', 'humidity']] = scaler.transform(X_train[['wind_speed', 'temp', 'humidity']])\n",
    "X_test_scaled [['wind_speed', 'temp', 'humidity']] = scaler.transform(X_test [['wind_speed', 'temp', 'humidity']])\n",
    "\n"
   ]
  },
  {
   "cell_type": "code",
   "execution_count": 133,
   "metadata": {},
   "outputs": [
    {
     "data": {
      "text/plain": [
       "(511, 220)"
      ]
     },
     "execution_count": 133,
     "metadata": {},
     "output_type": "execute_result"
    }
   ],
   "source": [
    "len(X_train_scaled), len(X_test_scaled)"
   ]
  },
  {
   "cell_type": "code",
   "execution_count": 134,
   "metadata": {},
   "outputs": [
    {
     "data": {
      "image/png": "[encoded data removed]",
      "text/plain": [
       "<Figure size 432x288 with 1 Axes>"
      ]
     },
     "metadata": {
      "needs_background": "light"
     },
     "output_type": "display_data"
    }
   ],
   "source": [
    "# Plot training error and cv error for a range of lambda values\n",
    "\n",
    "alphas = [0, 0.01, 0.03, 0.1, 0.3, 1, 5, 10, 30, 100, 300, 500]\n",
    "training_errors = []\n",
    "test_errors = []\n",
    "r2_scores = []\n",
    "for alpha in alphas:\n",
    "    ridge_model = Ridge(alpha = alpha)                      # create linear reg. model, specifying lambda\n",
    "\n",
    "    ridge_model.fit(X_train_scaled, y_train)                # train lin. reg. model to get theta parameters\n",
    "\n",
    "    y_pred_train = ridge_model.predict(X_train_scaled)      # use model to predict for training set\n",
    "    y_pred_test = ridge_model.predict(X_test_scaled)        # use model to predict for test set\n",
    "\n",
    "    MSE_train = mean_squared_error (y_pred_train, y_train)\n",
    "    RMSE_train = np.sqrt(MSE_train)\n",
    "\n",
    "    MSE_test = mean_squared_error (y_pred_test, y_test)\n",
    "    RMSE_test = np.sqrt(MSE_test)\n",
    "\n",
    "    training_errors.append(RMSE_train)\n",
    "    test_errors.append(RMSE_test)\n",
    "\n",
    "    r2_scores.append(r2_score(y_test, y_pred_test))\n",
    "    r2_scores.append(r2_score(y_train, y_pred_train))\n",
    "\n",
    "plt.plot(training_errors, label = 'training')\n",
    "plt.plot(test_errors, label = 'test')\n",
    "plt.xticks(ticks = range(len(alphas)), labels = alphas)\n",
    "plt.legend()\n",
    "plt.show()"
   ]
  },
  {
   "cell_type": "markdown",
   "metadata": {},
   "source": [
    "- Why is there no peak for the test error in the low-bias region?\n",
    "- Even when I make the test set be 90% of the data, there is no peak in test error in the low bias region...\n",
    "- Only when I make the test set be 95% of the data do we get a slight incrase in test error in the low bias region.\n",
    "- Does this just mean ... the y values are very evenly distributed? And no matter how we sample, we get a representative spread?\n",
    "- When I make the test set be 99% of the data, then we get a huge jump in test error at bias = 0. But here, the training data has 7 entries, and test data has 724 entries\n",
    "- This means, basically, as long as you have an even moderately sized training data set, you don't need regularisation."
   ]
  },
  {
   "cell_type": "markdown",
   "metadata": {},
   "source": [
    "- In short, there appears to be no need for regularisation. \n",
    "- There's enough noise in the data such that even with a relatively small training set, it's impossible to overfit the data with a straight line."
   ]
  },
  {
   "cell_type": "markdown",
   "metadata": {},
   "source": [
    "- Accuracy (train, test) with no regularisation:"
   ]
  },
  {
   "cell_type": "code",
   "execution_count": 135,
   "metadata": {},
   "outputs": [
    {
     "data": {
      "text/plain": [
       "(80.80236042500722, 80.24683762117465)"
      ]
     },
     "execution_count": 135,
     "metadata": {},
     "output_type": "execute_result"
    }
   ],
   "source": [
    "100*(1 - training_errors[0]/(df_daily['total'].mean())), 100*(1- (test_errors[0]/(df_daily['total'].mean())))"
   ]
  },
  {
   "cell_type": "markdown",
   "metadata": {},
   "source": [
    "- R2 score with no regularisation:"
   ]
  },
  {
   "cell_type": "code",
   "execution_count": 136,
   "metadata": {},
   "outputs": [
    {
     "data": {
      "text/plain": [
       "0.787082473687168"
      ]
     },
     "execution_count": 136,
     "metadata": {},
     "output_type": "execute_result"
    }
   ],
   "source": [
    "r2_scores[0]"
   ]
  }
 ],
 "metadata": {
  "kernelspec": {
   "display_name": "Python 3.9.7 ('base')",
   "language": "python",
   "name": "python3"
  },
  "language_info": {
   "codemirror_mode": {
    "name": "ipython",
    "version": 3
   },
   "file_extension": ".py",
   "mimetype": "text/x-python",
   "name": "python",
   "nbconvert_exporter": "python",
   "pygments_lexer": "ipython3",
   "version": "3.9.7"
  },
  "orig_nbformat": 4,
  "vscode": {
   "interpreter": {
    "hash": "40d3a090f54c6569ab1632332b64b2c03c39dcf918b08424e98f38b5ae0af88f"
   }
  }
 },
 "nbformat": 4,
 "nbformat_minor": 2
}
