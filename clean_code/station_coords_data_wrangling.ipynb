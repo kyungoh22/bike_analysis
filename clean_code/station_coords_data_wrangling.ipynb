{
 "cells": [
  {
   "cell_type": "markdown",
   "metadata": {},
   "source": [
    "<h2> Overview </h2>\n",
    "\n",
    "- We want to create a dataframe for each of the years from 2011 to 2019.\n",
    "- Each dataframe will contain the following columns: \n",
    "- Name of active station\n",
    "- Region\n",
    "- Longitude\n",
    "- Latitude"
   ]
  },
  {
   "cell_type": "code",
   "execution_count": 6,
   "metadata": {},
   "outputs": [],
   "source": [
    "import pandas as pd\n",
    "import numpy as np"
   ]
  },
  {
   "cell_type": "code",
   "execution_count": 4,
   "metadata": {},
   "outputs": [],
   "source": [
    "# load dataframes\n",
    "station_loc = pd.read_csv('cleaned_data/station_loc.csv')\n",
    "\n",
    "df_2011 = pd.read_csv('cleaned_data/df_2011.csv', parse_dates = ['start_date', 'end_date'])\n",
    "df_2012 = pd.read_csv('cleaned_data/df_2012.csv', parse_dates = ['start_date', 'end_date'])\n",
    "df_2013 = pd.read_csv('cleaned_data/df_2013.csv', parse_dates = ['start_date', 'end_date'])\n",
    "df_2014 = pd.read_csv('cleaned_data/df_2014.csv', parse_dates = ['start_date', 'end_date'])\n",
    "df_2015 = pd.read_csv('cleaned_data/df_2015.csv', parse_dates = ['start_date', 'end_date'])\n",
    "df_2016 = pd.read_csv('cleaned_data/df_2016.csv', parse_dates = ['start_date', 'end_date'])\n",
    "df_2017 = pd.read_csv('cleaned_data/df_2017.csv', parse_dates = ['start_date', 'end_date'])\n",
    "df_2018 = pd.read_csv('cleaned_data/df_2018.csv', parse_dates = ['start_date', 'end_date'])\n",
    "df_2019 = pd.read_csv('cleaned_data/df_2019.csv', parse_dates = ['start_date', 'end_date'])"
   ]
  },
  {
   "cell_type": "markdown",
   "metadata": {},
   "source": [
    "- run time: 42 s"
   ]
  },
  {
   "cell_type": "markdown",
   "metadata": {},
   "source": [
    "- For each year, we want to create a separate dataframe, with the columns \"station\", \"lat\", \"lon\""
   ]
  },
  {
   "cell_type": "code",
   "execution_count": 9,
   "metadata": {},
   "outputs": [],
   "source": [
    "# create a list of all dataframes per year\n",
    "dataframes = [df_2011, df_2012, df_2013, df_2014, df_2015, df_2016, df_2017, df_2018, df_2019]\n",
    "\n",
    "\n",
    "# For each dataframe df_20xx, create a new dataframe with a single column\n",
    "# The column includes all docking stations that were active that year\n",
    "\n",
    "stations = []\n",
    "for df in dataframes:\n",
    "    # retrieve all start stations and end stations, then save the union as \"both\"\n",
    "    start = df['start_station'].unique()\n",
    "    end = df['end_station'].unique()\n",
    "    both = np.union1d(start,end)\n",
    "    stations.append(both)\n",
    "\n",
    "stations_dataframes = []\n",
    "\n",
    "for item in stations: \n",
    "    stations_dataframes.append(pd.DataFrame(item).rename(columns = {0: 'station'}))\n",
    "\n",
    "\n",
    "# Now for every stations_dataframe, get the \"region\", \"lat\" and \"lon\" columns from the station_loc dataframe\n",
    "\n",
    "for item in stations_dataframes:\n",
    "    # Initialise with zeros\n",
    "    item['region'] = np.zeros(item.shape[0])\n",
    "    item['lat'] = np.zeros(item.shape[0])\n",
    "    item['lon'] = np.zeros(item.shape[0])\n",
    "\n",
    "    for i in item.index:\n",
    "        for j in station_loc.index: \n",
    "            if item.loc[i,'station'] == station_loc.loc[j, 'name']:\n",
    "                item.loc[i, 'lat'] = station_loc.loc[j, 'lat']\n",
    "                item.loc[i, 'lon'] = station_loc.loc[j, 'lon']\n",
    "                item.loc[i, 'region'] = station_loc.loc[j, 'region']\n",
    "\n",
    "# Assign each dataframe to variable\n",
    "stations_2011 = stations_dataframes[0]\n",
    "stations_2012 = stations_dataframes[1]\n",
    "stations_2013 = stations_dataframes[2]\n",
    "stations_2014 = stations_dataframes[3]\n",
    "stations_2015 = stations_dataframes[4]\n",
    "stations_2016 = stations_dataframes[5]\n",
    "stations_2017 = stations_dataframes[6]\n",
    "stations_2018 = stations_dataframes[7]\n",
    "stations_2019 = stations_dataframes[8]\n"
   ]
  },
  {
   "cell_type": "markdown",
   "metadata": {},
   "source": [
    "- run time: 26 s"
   ]
  },
  {
   "cell_type": "code",
   "execution_count": 10,
   "metadata": {},
   "outputs": [
    {
     "data": {
      "text/html": [
       "<div>\n",
       "<style scoped>\n",
       "    .dataframe tbody tr th:only-of-type {\n",
       "        vertical-align: middle;\n",
       "    }\n",
       "\n",
       "    .dataframe tbody tr th {\n",
       "        vertical-align: top;\n",
       "    }\n",
       "\n",
       "    .dataframe thead th {\n",
       "        text-align: right;\n",
       "    }\n",
       "</style>\n",
       "<table border=\"1\" class=\"dataframe\">\n",
       "  <thead>\n",
       "    <tr style=\"text-align: right;\">\n",
       "      <th></th>\n",
       "      <th>station</th>\n",
       "      <th>region</th>\n",
       "      <th>lat</th>\n",
       "      <th>lon</th>\n",
       "    </tr>\n",
       "  </thead>\n",
       "  <tbody>\n",
       "    <tr>\n",
       "      <th>0</th>\n",
       "      <td>10th &amp; E St NW</td>\n",
       "      <td>Washington, DC</td>\n",
       "      <td>38.895914</td>\n",
       "      <td>-77.026064</td>\n",
       "    </tr>\n",
       "    <tr>\n",
       "      <th>1</th>\n",
       "      <td>10th &amp; Florida Ave NW</td>\n",
       "      <td>Washington, DC</td>\n",
       "      <td>38.920387</td>\n",
       "      <td>-77.025672</td>\n",
       "    </tr>\n",
       "    <tr>\n",
       "      <th>2</th>\n",
       "      <td>10th &amp; G St NW</td>\n",
       "      <td>Washington, DC</td>\n",
       "      <td>38.898243</td>\n",
       "      <td>-77.026235</td>\n",
       "    </tr>\n",
       "    <tr>\n",
       "      <th>3</th>\n",
       "      <td>10th &amp; K St NW</td>\n",
       "      <td>Washington, DC</td>\n",
       "      <td>38.902400</td>\n",
       "      <td>-77.026220</td>\n",
       "    </tr>\n",
       "    <tr>\n",
       "      <th>4</th>\n",
       "      <td>10th &amp; Monroe St NE</td>\n",
       "      <td>Washington, DC</td>\n",
       "      <td>38.932457</td>\n",
       "      <td>-76.993534</td>\n",
       "    </tr>\n",
       "  </tbody>\n",
       "</table>\n",
       "</div>"
      ],
      "text/plain": [
       "                 station          region        lat        lon\n",
       "0         10th & E St NW  Washington, DC  38.895914 -77.026064\n",
       "1  10th & Florida Ave NW  Washington, DC  38.920387 -77.025672\n",
       "2         10th & G St NW  Washington, DC  38.898243 -77.026235\n",
       "3         10th & K St NW  Washington, DC  38.902400 -77.026220\n",
       "4    10th & Monroe St NE  Washington, DC  38.932457 -76.993534"
      ]
     },
     "execution_count": 10,
     "metadata": {},
     "output_type": "execute_result"
    }
   ],
   "source": [
    "stations_2019.head()"
   ]
  },
  {
   "cell_type": "code",
   "execution_count": 11,
   "metadata": {},
   "outputs": [],
   "source": [
    "# Save dataframes as csv files\n",
    "stations_2011.to_csv('cleaned_data/stations_2011.csv', index = False)\n",
    "stations_2012.to_csv('cleaned_data/stations_2012.csv', index = False)\n",
    "stations_2013.to_csv('cleaned_data/stations_2013.csv', index = False)\n",
    "stations_2014.to_csv('cleaned_data/stations_2014.csv', index = False)\n",
    "stations_2015.to_csv('cleaned_data/stations_2015.csv', index = False)\n",
    "stations_2016.to_csv('cleaned_data/stations_2016.csv', index = False)\n",
    "stations_2017.to_csv('cleaned_data/stations_2017.csv', index = False)\n",
    "stations_2018.to_csv('cleaned_data/stations_2018.csv', index = False)\n",
    "stations_2019.to_csv('cleaned_data/stations_2019.csv', index = False)\n"
   ]
  },
  {
   "cell_type": "code",
   "execution_count": null,
   "metadata": {},
   "outputs": [],
   "source": []
  }
 ],
 "metadata": {
  "kernelspec": {
   "display_name": "Python 3.8.13 ('bike_project')",
   "language": "python",
   "name": "python3"
  },
  "language_info": {
   "codemirror_mode": {
    "name": "ipython",
    "version": 3
   },
   "file_extension": ".py",
   "mimetype": "text/x-python",
   "name": "python",
   "nbconvert_exporter": "python",
   "pygments_lexer": "ipython3",
   "version": "3.10.6"
  },
  "orig_nbformat": 4,
  "vscode": {
   "interpreter": {
    "hash": "cd7921d716c8b92bc4fb5c31f8755e9e74675f723fcab73f9c1f6eb2bf24fdbd"
   }
  }
 },
 "nbformat": 4,
 "nbformat_minor": 2
}
